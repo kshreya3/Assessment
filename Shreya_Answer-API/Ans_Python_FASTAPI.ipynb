{
 "cells": [
  {
   "cell_type": "code",
   "execution_count": null,
   "id": "57896a5a",
   "metadata": {},
   "outputs": [],
   "source": [
    "Function to create a FASTAPI, create function for GET and POST and provide functionality to the application"
   ]
  },
  {
   "cell_type": "code",
   "execution_count": 1,
   "id": "f64c8b43",
   "metadata": {},
   "outputs": [],
   "source": [
    "from fastapi import FastAPI                                        #Importing FASTAPI for creation of API \n",
    "from pydantic import BaseModel                                     #Importing PYDANTIC BASEMODEL to accept user input in the URL \n",
    "from loguru import logger                                          #Importing LOGGER to check for logs and Debugging \n",
    "\n",
    "app = FastAPI()                                                    #Creation of FASTAPI\n",
    "\n",
    "class UserRequestIn(BaseModel):                                    #Creation of User Input\n",
    "    text: str\n",
    "\n",
    "#Function for Testing        \n",
    "        \n",
    "@app.post(\"/test\")                                                 \n",
    "def index(request: UserRequestIn):\n",
    "    logger.debug(request)\n",
    "    return {\"ok\": True}\n",
    "  \n",
    "#GET Function for dictionary.txt to be returned as a JSON Object\n",
    "    \n",
    "@app.get(\"/dictionary\")                                            \n",
    "def dictionary_get():\n",
    "\n",
    "    import pandas as pd                                            \n",
    "    p ='dictionary.txt'\n",
    "    dic = pd.read_fwf(p)\n",
    "    return dic\n",
    "\n",
    "# POST Function for dictionary.txt to accept keyword from the user and then add it to the file.\n",
    "\n",
    "@app.post(\"/dictionary\")                                           \n",
    "def dictionary_post(request: UserRequestIn):\n",
    "    \n",
    "    with open(\"dictionary.txt\", \"a+\") as f1:\n",
    "        request=(str(request).split('='))\n",
    "        f1.write('\\n'+str(request[1]).replace(\"'\",\"\"))\n",
    "        \n",
    "    f1.close()\n",
    "\n",
    "    '''This endpoint should be used to add words to the dictionary''' \n",
    "      \n",
    "# POST Function for dictionary.txt to accept keyword from the user and then delete it from the file.\n",
    "        \n",
    "@app.delete(\"/dictionary\")                                         \n",
    "def dictionary_delete(request: UserRequestIn):\n",
    "    \n",
    "    f = open(\"dictionary.txt\",'r')\n",
    "    lines = f.readlines()\n",
    "    f.close()\n",
    "\n",
    "    request=(str(request).split('='))\n",
    "    new_word = str(request[1]).replace(\"'\",\"\")\n",
    "\n",
    "    newLines = []\n",
    "    for line in lines:\n",
    "        newLines.append(' '.join([word for word in line.split() if word != new_word]))\n",
    "\n",
    "    f = open(\"dictionary.txt\", 'w')\n",
    "    for line in lines:\n",
    "        f.write(\"{}\\n\".format(line))\n",
    "    f.close()\n",
    "\n",
    "# POST Function to accept contents of story.txt and search for keywords not in dictionary.txt. Additionally, return all the unmatched keywords along with their possible matches from dictionary.txt to accept keyword from the user and then add it to the file.    \n",
    "\n",
    "@app.post(\"/story\")\n",
    "def story_post(request: UserRequestIn):                             \n",
    "\n",
    "    'Using the posted body (story), the API should return a list of words that are not found or added to the dictionary of the system. For each word provide what the closest match for it would be from the dictionary. If more than one item is the same level of close match to a misspelled entity return the suggestion from the dictionary that comes first.'\n",
    "    \n",
    "    request=(str(request).split('='))\n",
    "    string_input = str(request[1]).replace(\"'\",\"\")\n",
    "    \n",
    "    with open(\"dictionary.txt\", \"r\") as f1:\n",
    "        data=f1.readlines()\n",
    "        newdata = []\n",
    "        for word in data:\n",
    "            newdata.append(word.replace(\"\\n\",\"\"))\n",
    "\n",
    "        string_input = string_input.split(' ')\n",
    "        unmatch = []\n",
    "        for word in string_input:\n",
    "            if word not in newdata:\n",
    "                unmatch.append(word)\n",
    "        \n",
    "        def match_with_gaps(my_word, other_word):\n",
    "            \n",
    "            my_word = my_word.replace(' ','')\n",
    "            for char in my_word:\n",
    "                if char.isalpha():\n",
    "                    if my_word.count(char) != other_word.count(char):\n",
    "                        break\n",
    "                    if len(my_word) == len(other_word):\n",
    "                        return True\n",
    "        ans_dict =[]\n",
    "        for w1 in newdata:\n",
    "            for word in unmatch:\n",
    "                check = match_with_gaps(word,w1)\n",
    "                if check:\n",
    "                    ans_dict.append({\"word\": word,\n",
    "                           \"closeMatch\": w1})\n",
    "        return ans_dict"
   ]
  },
  {
   "cell_type": "markdown",
   "id": "b017f58b",
   "metadata": {},
   "source": [
    "Function to wrap ngrok and and make it available for Python API and create object that has a reference to the public URL."
   ]
  },
  {
   "cell_type": "code",
   "execution_count": 2,
   "id": "c0decba8",
   "metadata": {},
   "outputs": [
    {
     "data": {
      "text/plain": [
       "<NgrokTunnel: \"http://7066-153-33-85-163.ngrok.io\" -> \"http://localhost:8000\">"
      ]
     },
     "execution_count": 2,
     "metadata": {},
     "output_type": "execute_result"
    }
   ],
   "source": [
    "from pyngrok import ngrok\n",
    "\n",
    "ngrok_tunnel = ngrok.connect(8000)\n",
    "\n",
    "ngrok_tunnel"
   ]
  },
  {
   "cell_type": "markdown",
   "id": "a25f5dee",
   "metadata": {},
   "source": [
    "Function to create a loop and keep the server running."
   ]
  },
  {
   "cell_type": "code",
   "execution_count": 3,
   "id": "e6ffe1c3",
   "metadata": {},
   "outputs": [
    {
     "name": "stderr",
     "output_type": "stream",
     "text": [
      "INFO:     Started server process [18212]\n",
      "INFO:     Waiting for application startup.\n",
      "INFO:     Application startup complete.\n",
      "INFO:     Uvicorn running on http://127.0.0.1:8000 (Press CTRL+C to quit)\n"
     ]
    },
    {
     "name": "stdout",
     "output_type": "stream",
     "text": [
      "INFO:     127.0.0.1:56773 - \"GET / HTTP/1.1\" 404 Not Found\n",
      "INFO:     127.0.0.1:56773 - \"GET /docs HTTP/1.1\" 200 OK\n",
      "INFO:     127.0.0.1:56773 - \"GET /openapi.json HTTP/1.1\" 200 OK\n"
     ]
    },
    {
     "name": "stderr",
     "output_type": "stream",
     "text": [
      "INFO:     Shutting down\n",
      "INFO:     Waiting for application shutdown.\n",
      "INFO:     Application shutdown complete.\n",
      "INFO:     Finished server process [18212]\n"
     ]
    }
   ],
   "source": [
    "import nest_asyncio\n",
    "import uvicorn\n",
    "\n",
    "nest_asyncio.apply()\n",
    "uvicorn.run(app, port=8000)"
   ]
  },
  {
   "cell_type": "code",
   "execution_count": null,
   "id": "e13f7849",
   "metadata": {},
   "outputs": [],
   "source": []
  }
 ],
 "metadata": {
  "kernelspec": {
   "display_name": "Python 3 (ipykernel)",
   "language": "python",
   "name": "python3"
  },
  "language_info": {
   "codemirror_mode": {
    "name": "ipython",
    "version": 3
   },
   "file_extension": ".py",
   "mimetype": "text/x-python",
   "name": "python",
   "nbconvert_exporter": "python",
   "pygments_lexer": "ipython3",
   "version": "3.9.7"
  }
 },
 "nbformat": 4,
 "nbformat_minor": 5
}
